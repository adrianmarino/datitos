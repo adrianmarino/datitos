{
 "cells": [
  {
   "cell_type": "code",
   "execution_count": 1,
   "id": "8f7ee00f-cf10-4c0d-9c3a-d344dc28a40c",
   "metadata": {},
   "outputs": [],
   "source": [
    "%matplotlib inline\n",
    "%load_ext autoreload\n",
    "%autoreload 2"
   ]
  },
  {
   "cell_type": "code",
   "execution_count": 2,
   "id": "c4d57e44-6e75-44e7-a2a1-b25c36b971ca",
   "metadata": {},
   "outputs": [],
   "source": [
    "import sys\n",
    "sys.path.append('../lib')\n",
    "\n",
    "import warnings\n",
    "warnings.filterwarnings(\"ignore\")\n",
    "\n",
    "from datetime import datetime\n",
    "import seaborn as sns\n",
    "import numpy as np\n",
    "import pandas as pd\n",
    "\n",
    "from fifa.dataset import FifaDataset\n",
    "from logger import initialize_logger\n",
    "\n",
    "import lightgbm as lgb\n",
    "from sklearn.model_selection import train_test_split\n",
    "from sklearn.metrics import balanced_accuracy_score"
   ]
  },
  {
   "cell_type": "code",
   "execution_count": 3,
   "id": "868738fa-7bbd-4d85-be2f-c0d97937ddae",
   "metadata": {},
   "outputs": [],
   "source": [
    "initialize_logger()"
   ]
  },
  {
   "cell_type": "code",
   "execution_count": 4,
   "id": "ca3a4030-4fbd-4480-80b0-8450387f399a",
   "metadata": {},
   "outputs": [],
   "source": [
    "dataset = FifaDataset(\n",
    "    train_path = './dataset/fifa2021_training.csv',\n",
    "    test_path  = './dataset/fifa2021_test.csv'\n",
    ") \n",
    "X, y = dataset.raw_train_features_target()"
   ]
  },
  {
   "cell_type": "code",
   "execution_count": 5,
   "id": "34730f35-3ec2-4d92-a474-7dfc3fd8754f",
   "metadata": {},
   "outputs": [
    {
     "name": "stdout",
     "output_type": "stream",
     "text": [
      "<class 'pandas.core.frame.DataFrame'>\n",
      "RangeIndex: 13921 entries, 0 to 13920\n",
      "Data columns (total 41 columns):\n",
      " #   Column          Non-Null Count  Dtype   \n",
      "---  ------          --------------  -----   \n",
      " 0   Penalties       13921 non-null  int64   \n",
      " 1   Finishing       13921 non-null  int64   \n",
      " 2   LongPass        13921 non-null  int64   \n",
      " 3   GKDiving        13921 non-null  int64   \n",
      " 4   PlayerWorkRate  13921 non-null  category\n",
      " 5   Dribbling       13921 non-null  int64   \n",
      " 6   SkillMoves      13921 non-null  int64   \n",
      " 7   Agility         13921 non-null  int64   \n",
      " 8   Vision          13921 non-null  int64   \n",
      " 9   SlideTackle     13921 non-null  int64   \n",
      " 10  GKHandling      13921 non-null  int64   \n",
      " 11  Potential       13921 non-null  int64   \n",
      " 12  Marking         13921 non-null  int64   \n",
      " 13  SprintSpeed     13921 non-null  int64   \n",
      " 14  BallControl     13921 non-null  int64   \n",
      " 15  ShortPass       13921 non-null  int64   \n",
      " 16  Jumping         13921 non-null  int64   \n",
      " 17  Stamina         13921 non-null  int64   \n",
      " 18  FKAcc           13921 non-null  int64   \n",
      " 19  Balance         13921 non-null  int64   \n",
      " 20  Reactions       13921 non-null  int64   \n",
      " 21  Curve           13921 non-null  int64   \n",
      " 22  ShotPower       13921 non-null  int64   \n",
      " 23  GKReflexes      13921 non-null  int64   \n",
      " 24  Aggression      13921 non-null  int64   \n",
      " 25  Volleys         13921 non-null  int64   \n",
      " 26  StandTackle     13921 non-null  int64   \n",
      " 27  Acceleration    13921 non-null  int64   \n",
      " 28  Heading         13921 non-null  int64   \n",
      " 29  Height          13921 non-null  int64   \n",
      " 30  Crossing        13921 non-null  int64   \n",
      " 31  GKKicking       13921 non-null  int64   \n",
      " 32  Overal          13921 non-null  int64   \n",
      " 33  Age             13921 non-null  int64   \n",
      " 34  LongShots       13921 non-null  int64   \n",
      " 35  WeakFoot        13921 non-null  int64   \n",
      " 36  Interceptions   13921 non-null  int64   \n",
      " 37  Weight          13921 non-null  int64   \n",
      " 38  Strength        13921 non-null  int64   \n",
      " 39  Composure       13921 non-null  int64   \n",
      " 40  PreferredFoot   13921 non-null  category\n",
      "dtypes: category(2), int64(39)\n",
      "memory usage: 4.2 MB\n"
     ]
    }
   ],
   "source": [
    "X.info()"
   ]
  },
  {
   "cell_type": "code",
   "execution_count": 6,
   "id": "2fcf133b-20f6-47e0-9691-aae1b1a48ac2",
   "metadata": {},
   "outputs": [
    {
     "data": {
      "text/plain": [
       "0    MID\n",
       "1    MID\n",
       "2    DEF\n",
       "3    DEF\n",
       "4    MID\n",
       "Name: Position, dtype: object"
      ]
     },
     "execution_count": 6,
     "metadata": {},
     "output_type": "execute_result"
    }
   ],
   "source": [
    "y.head()"
   ]
  },
  {
   "cell_type": "code",
   "execution_count": 7,
   "id": "e4aec4f7-a53f-47ae-adb1-afd428caa1ca",
   "metadata": {},
   "outputs": [
    {
     "data": {
      "text/plain": [
       "0        3\n",
       "1        3\n",
       "2        0\n",
       "3        0\n",
       "4        3\n",
       "        ..\n",
       "13916    3\n",
       "13917    3\n",
       "13918    3\n",
       "13919    0\n",
       "13920    1\n",
       "Name: Position, Length: 13921, dtype: int64"
      ]
     },
     "execution_count": 7,
     "metadata": {},
     "output_type": "execute_result"
    }
   ],
   "source": [
    "def target_to_num(target, mapping = {'DEF': 0, 'FWD': 1, 'GK': 2, 'MID': 3}):\n",
    "    return target.apply(lambda x: mapping[x])\n",
    "\n",
    "def num_to_target(target, mapping = ['DEF', 'FWD', 'GK', 'MID']):\n",
    "    return [mapping[x] for x in target]\n",
    "\n",
    "num_target = target_to_num(y)\n",
    "num_target"
   ]
  },
  {
   "cell_type": "code",
   "execution_count": 45,
   "id": "fe400c7e-e704-4112-bd64-37722b2e61db",
   "metadata": {},
   "outputs": [],
   "source": [
    "params = {\n",
    "    'learning_rate': 0.001,\n",
    "    'max_depth'    : 5,\n",
    "    'n_jobs'       : 24,    \n",
    "    'boosting_type': 'gbdt', #GradientBoostingDecisionTree\n",
    "    'objective'    : 'multiclass', #Multi-class target feature\n",
    "    'metric'       : 'multi_logloss', #metric for multi-class\n",
    "    'num_class'    : 4, #no.of unique values in the target class not inclusive of the end value\n",
    "    'verbose'      : -1,\n",
    "    'is_unbalance' : True,\n",
    "    'lambda_l1'    : 1,\n",
    "    'device': 'gpu',\n",
    "    'gpu_platform_id': 0\n",
    "    'gpu_device_id': 0\n",
    "}"
   ]
  },
  {
   "cell_type": "code",
   "execution_count": 131,
   "id": "5ac218bd-681b-4c45-b2ce-1d44630d3483",
   "metadata": {},
   "outputs": [],
   "source": [
    "def train_cv(\n",
    "    X,\n",
    "    y,\n",
    "    params,\n",
    "    num_boost_round = 15000,\n",
    "    nfold           = 10,\n",
    "    stratified      = True,\n",
    "    callbacks       = [\n",
    "        lgb.early_stopping(10, verbose=0), \n",
    "        lgb.log_evaluation(period=500)\n",
    "    ]\n",
    "):\n",
    "    train_set = lgb.Dataset(X, label=y)\n",
    "    return lgb.cv(\n",
    "        params,\n",
    "        train_set,\n",
    "        num_boost_round  = num_boost_round,\n",
    "        nfold            = nfold,\n",
    "        callbacks        = callbacks,\n",
    "        return_cvbooster = True\n",
    "    )"
   ]
  },
  {
   "cell_type": "code",
   "execution_count": 132,
   "id": "885e4a3d-92db-4193-8d4c-27002bb7cacc",
   "metadata": {},
   "outputs": [
    {
     "name": "stdout",
     "output_type": "stream",
     "text": [
      "[500]\tcv_agg's multi_logloss: 0.723654 + 0.00659229\n",
      "[1000]\tcv_agg's multi_logloss: 0.500021 + 0.0102551\n",
      "[1500]\tcv_agg's multi_logloss: 0.391609 + 0.0123618\n",
      "[2000]\tcv_agg's multi_logloss: 0.333397 + 0.0134992\n",
      "[2500]\tcv_agg's multi_logloss: 0.299713 + 0.0139518\n",
      "[3000]\tcv_agg's multi_logloss: 0.279523 + 0.0142608\n",
      "[3500]\tcv_agg's multi_logloss: 0.266733 + 0.0145741\n",
      "[4000]\tcv_agg's multi_logloss: 0.258495 + 0.0149091\n",
      "[4500]\tcv_agg's multi_logloss: 0.252659 + 0.015112\n",
      "[5000]\tcv_agg's multi_logloss: 0.248355 + 0.0152158\n",
      "[5500]\tcv_agg's multi_logloss: 0.245106 + 0.0153641\n",
      "[6000]\tcv_agg's multi_logloss: 0.242687 + 0.0154429\n",
      "[6500]\tcv_agg's multi_logloss: 0.240753 + 0.0155285\n",
      "[7000]\tcv_agg's multi_logloss: 0.239302 + 0.0155626\n",
      "[7500]\tcv_agg's multi_logloss: 0.238228 + 0.0156141\n",
      "[8000]\tcv_agg's multi_logloss: 0.237377 + 0.0156015\n",
      "[8500]\tcv_agg's multi_logloss: 0.236653 + 0.0157014\n",
      "[9000]\tcv_agg's multi_logloss: 0.236014 + 0.0158203\n",
      "[9500]\tcv_agg's multi_logloss: 0.235584 + 0.0157858\n",
      "[10000]\tcv_agg's multi_logloss: 0.235227 + 0.0159408\n",
      "[10500]\tcv_agg's multi_logloss: 0.234926 + 0.0161544\n"
     ]
    }
   ],
   "source": [
    "cv_result = train_cv(X, num_target, params)"
   ]
  },
  {
   "cell_type": "code",
   "execution_count": 139,
   "id": "0b925332-8db4-4baf-94bd-bd24ba07ddf4",
   "metadata": {},
   "outputs": [],
   "source": [
    "model = cv_result['cvbooster']"
   ]
  },
  {
   "cell_type": "code",
   "execution_count": 140,
   "id": "01a3b820-b1d8-4c0c-a0bd-b478e567b2e6",
   "metadata": {},
   "outputs": [],
   "source": [
    "booster = model.boosters[-1]"
   ]
  },
  {
   "cell_type": "code",
   "execution_count": 141,
   "id": "84a9ce8f-ae15-47c1-b90f-4f80232ba7ac",
   "metadata": {},
   "outputs": [],
   "source": [
    "X_test = dataset.test_set()"
   ]
  },
  {
   "cell_type": "code",
   "execution_count": 142,
   "id": "e488a739-ee41-4a45-a4ed-1a19b76197fd",
   "metadata": {},
   "outputs": [],
   "source": [
    "y_pred = booster.predict(X_test)\n",
    "y_pred = np.array(y_pred)"
   ]
  },
  {
   "cell_type": "code",
   "execution_count": 144,
   "id": "f7d8c197-ff74-4825-a3d8-44a43d7d6a6b",
   "metadata": {},
   "outputs": [],
   "source": [
    "prediction = [np.argmax(line) for line in y_pred]\n",
    "# prediction"
   ]
  },
  {
   "cell_type": "code",
   "execution_count": 39,
   "id": "6ac38fd9-6105-4049-a6e8-c0caadc12d39",
   "metadata": {},
   "outputs": [],
   "source": [
    "def train_and_pred(\n",
    "    X_train,\n",
    "    y_train,\n",
    "    X_test,  \n",
    "    params,\n",
    "    num_boost_round = 10000,\n",
    "    callbacks       = [lgb.early_stopping(10, verbose=1)]\n",
    "):\n",
    "    train_set = lgb.Dataset(X_train, label=y_train)\n",
    "\n",
    "    model = lgb.train(\n",
    "        params,\n",
    "        train_set,\n",
    "        num_boost_round = num_boost_round\n",
    "    )\n",
    "    pred = model.predict(X_test)\n",
    "    return [np.argmax(line) for line in pred]\n",
    "\n",
    "y_pred = train_and_pred(X_train, y_train, X_test, params)"
   ]
  },
  {
   "cell_type": "code",
   "execution_count": 145,
   "id": "e67c4bba-74ab-4e66-b321-40dfb083fc75",
   "metadata": {},
   "outputs": [],
   "source": [
    "mapping = ['DEF', 'FWD', 'GK', 'MID']\n",
    "\n",
    "test_data = pd.DataFrame(data={\n",
    "    'ID': dataset.raw_test_set().ID.values,\n",
    "    'Category': num_to_target(prediction)\n",
    "})\n",
    "\n",
    "filename = \"{}-predict-{:%Y-%m-%d_%H-%M-%S}.csv\".format('result-x', datetime.now())\n",
    "\n",
    "test_data.to_csv(filename, index=False)"
   ]
  },
  {
   "cell_type": "code",
   "execution_count": null,
   "id": "cf51aabe-ad30-4d29-89b0-127f099b9fa1",
   "metadata": {},
   "outputs": [],
   "source": []
  }
 ],
 "metadata": {
  "kernelspec": {
   "display_name": "Python 3",
   "language": "python",
   "name": "python3"
  },
  "language_info": {
   "codemirror_mode": {
    "name": "ipython",
    "version": 3
   },
   "file_extension": ".py",
   "mimetype": "text/x-python",
   "name": "python",
   "nbconvert_exporter": "python",
   "pygments_lexer": "ipython3",
   "version": "3.9.7"
  },
  "widgets": {
   "application/vnd.jupyter.widget-state+json": {
    "state": {},
    "version_major": 2,
    "version_minor": 0
   }
  }
 },
 "nbformat": 4,
 "nbformat_minor": 5
}
