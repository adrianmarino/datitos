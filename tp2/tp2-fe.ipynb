{
 "cells": [
  {
   "cell_type": "markdown",
   "id": "ed6945a4-37a3-4537-981d-0bd79a3d9c57",
   "metadata": {},
   "source": [
    "[Datitos: Aprendizaje profundo](https://datitos.github.io/curso-aprendizaje-profundo/)"
   ]
  },
  {
   "cell_type": "markdown",
   "id": "dc07b230-2868-4de8-bb52-3645779ecce0",
   "metadata": {},
   "source": [
    "[T.P. N°2 - Aprendizaje Profundo 2021 by Datitos](https://www.kaggle.com/c/tp-n2-aprendizaje-profundo-2021-by-datitos-v2)"
   ]
  },
  {
   "cell_type": "code",
   "execution_count": 1,
   "id": "8f7ee00f-cf10-4c0d-9c3a-d344dc28a40c",
   "metadata": {},
   "outputs": [],
   "source": [
    "%matplotlib inline\n",
    "%load_ext autoreload\n",
    "%autoreload 2"
   ]
  },
  {
   "cell_type": "code",
   "execution_count": 2,
   "id": "af7dacb1-82b5-49f0-bc09-75e571d4ec9b",
   "metadata": {},
   "outputs": [],
   "source": [
    "import sys\n",
    "sys.path.append('../lib')"
   ]
  },
  {
   "cell_type": "code",
   "execution_count": 3,
   "id": "c4d57e44-6e75-44e7-a2a1-b25c36b971ca",
   "metadata": {},
   "outputs": [],
   "source": [
    "import warnings\n",
    "warnings.filterwarnings(\"ignore\")\n",
    "\n",
    "import numpy as np\n",
    "import pandas as pd\n",
    "import seaborn as sns\n",
    "\n",
    "from pandas_profiling import ProfileReport\n",
    "\n",
    "from data import OverUnderSampler, to_single_col_df"
   ]
  },
  {
   "cell_type": "code",
   "execution_count": 4,
   "id": "69b924c1-5e9a-441e-ab72-c5a86872a7c3",
   "metadata": {},
   "outputs": [],
   "source": [
    "train_set = pd.read_csv('./dataset/fifa2021_training.csv')"
   ]
  },
  {
   "cell_type": "code",
   "execution_count": 5,
   "id": "df5d35dd-82bc-4886-9ddd-224f34475c88",
   "metadata": {},
   "outputs": [],
   "source": [
    "# ProfileReport(train_set, title=\"Exploratory Analisys\", explorative=True)to_file(\"report.html\")"
   ]
  },
  {
   "cell_type": "code",
   "execution_count": 6,
   "id": "a4abb294-025c-4b77-b8b0-5406816679cd",
   "metadata": {},
   "outputs": [],
   "source": [
    "INDIVIDUAL_FEATURES = [\n",
    "    'Overal',\n",
    "    'Potential',\n",
    "    'Height',\n",
    "    'Weight',\n",
    "    'PreferredFoot',\n",
    "    'Age',\n",
    "    'PlayerWorkRate',\n",
    "    'WeakFoot',\n",
    "    'SkillMoves', \n",
    "    'Value',\n",
    "    'Wage',\n",
    "    'Club',\n",
    "    'Club_KitNumber',\n",
    "    'Club_JoinedClub',\n",
    "    'Club_ContractLength'\n",
    "]\n",
    "\n",
    "SKILL_FEATURES = [\n",
    "    'BallControl', 'Dribbling', 'Marking', 'SlideTackle', 'StandTackle', 'Aggression',\n",
    "    'Reactions', 'Interceptions', 'Vision', 'Composure', 'Crossing', 'ShortPass',\n",
    "    'LongPass', 'Acceleration', 'Stamina', 'Strength', 'Balance', 'SprintSpeed',\n",
    "    'Agility', 'Jumping', 'Heading', 'ShotPower', 'Finishing', 'LongShots',\n",
    "    'Curve', 'FKAcc', 'Penalties', 'Volleys', 'GKDiving', 'GKHandling',\n",
    "    'GKKicking', 'GKReflexes'\n",
    "]\n",
    "TARGET = 'Position'\n",
    "\n",
    "CAL_COLS = [ 'PreferredFoot', 'PlayerWorkRate']"
   ]
  },
  {
   "cell_type": "code",
   "execution_count": 7,
   "id": "91850dec-41e3-4327-802c-edf7bbb2fc4e",
   "metadata": {},
   "outputs": [],
   "source": [
    "def columns_with_missing(df): return [col for col in df.columns if df[col].isnull().any()]"
   ]
  },
  {
   "cell_type": "code",
   "execution_count": 8,
   "id": "8685405a-d644-4478-adf8-6e8fe6f09288",
   "metadata": {},
   "outputs": [],
   "source": [
    "feature_columns = list(set(INDIVIDUAL_FEATURES + SKILL_FEATURES) -  set(columns_with_missing(train_set)))"
   ]
  },
  {
   "cell_type": "code",
   "execution_count": 9,
   "id": "a48c1cb5-5a5c-4e1b-8696-ffe7561e3724",
   "metadata": {},
   "outputs": [],
   "source": [
    "train_set = train_set[feature_columns + [TARGET]]"
   ]
  },
  {
   "cell_type": "code",
   "execution_count": 10,
   "id": "4289cbe0-61ac-49f8-a970-111ed5452be4",
   "metadata": {},
   "outputs": [],
   "source": [
    "def preprocess(df): \n",
    "    features = df[feature_columns]\n",
    "    for col in CAL_COLS:\n",
    "        features = pd.concat([features, pd.get_dummies(features[col], dummy_na=False)], axis=1)\n",
    "    features = features.drop(CAL_COLS, axis=1)\n",
    "    \n",
    "    target = pd.get_dummies(df[[TARGET]], dummy_na=False) if TARGET in df.columns else None\n",
    "\n",
    "    return features, target"
   ]
  },
  {
   "cell_type": "code",
   "execution_count": 11,
   "id": "f313f35f-c859-4089-b6b0-f3b0e9c843db",
   "metadata": {
    "tags": []
   },
   "outputs": [],
   "source": [
    "def plot_df_clases_count(df, class_col):\n",
    "    groups = train_set[[class_col]] \\\n",
    "      .groupby(class_col) \\\n",
    "      .size() \\\n",
    "      .reset_index(name='count')\n",
    "    sns.barplot(data=groups, x=class_col, y='count')\n",
    "\n",
    "def plot_array_clases_count(values):\n",
    "    groups = values \\\n",
    "        .mean() \\\n",
    "        .reset_index(name='count') \\\n",
    "        .rename(columns={\"index\": \"Name\"})\n",
    "\n",
    "    sns.barplot(data=groups, x=\"Name\", y='count')"
   ]
  },
  {
   "cell_type": "code",
   "execution_count": 12,
   "id": "893281b5-f0bd-4390-b890-93bdea5cd4e9",
   "metadata": {},
   "outputs": [
    {
     "data": {
      "image/png": "[encoded data removed]",
      "text/plain": [
       "<Figure size 432x288 with 1 Axes>"
      ]
     },
     "metadata": {
      "needs_background": "light"
     },
     "output_type": "display_data"
    }
   ],
   "source": [
    "plot_df_clases_count(train_set, TARGET)"
   ]
  },
  {
   "cell_type": "code",
   "execution_count": 13,
   "id": "7e33620a-ce78-44de-bde9-1a0dc649ebbd",
   "metadata": {},
   "outputs": [],
   "source": [
    "X, y = preprocess(train_set)"
   ]
  },
  {
   "cell_type": "code",
   "execution_count": 45,
   "id": "c3a0e7f2-3ae9-488e-b717-394b44900f72",
   "metadata": {},
   "outputs": [],
   "source": [
    "import numpy as np\n",
    "import pandas as pd\n",
    "\n",
    "import matplotlib.pyplot as plt\n",
    "\n",
    "from sklearn.ensemble import RandomForestRegressor\n",
    "from sklearn.inspection import permutation_importance"
   ]
  },
  {
   "cell_type": "code",
   "execution_count": 46,
   "id": "c19b9dc0-39d6-4953-a5b4-ae5dc06a4b52",
   "metadata": {},
   "outputs": [
    {
     "data": {
      "text/plain": [
       "RandomForestRegressor(n_estimators=150)"
      ]
     },
     "execution_count": 46,
     "metadata": {},
     "output_type": "execute_result"
    }
   ],
   "source": [
    "rf = RandomForestRegressor(n_estimators=150)\n",
    "rf.fit(X, y)"
   ]
  },
  {
   "cell_type": "code",
   "execution_count": 47,
   "id": "884ec963-fccd-48a8-9d85-5e878ff7e403",
   "metadata": {},
   "outputs": [
    {
     "data": {
      "text/plain": [
       "<BarContainer object of 50 artists>"
      ]
     },
     "execution_count": 47,
     "metadata": {},
     "output_type": "execute_result"
    },
    {
     "data": {
      "image/png": "[encoded data removed]",
      "text/plain": [
       "<Figure size 1440x1080 with 1 Axes>"
      ]
     },
     "metadata": {
      "needs_background": "light"
     },
     "output_type": "display_data"
    }
   ],
   "source": [
    "sort = rf.feature_importances_.argsort()\n",
    "\n",
    "plt.rcParams[\"figure.figsize\"] = (20,15)\n",
    "\n",
    "plt.xlabel(\"Feature Importance\")\n",
    "plt.barh(X.columns[sort], rf.feature_importances_[sort])"
   ]
  },
  {
   "cell_type": "code",
   "execution_count": null,
   "id": "94016f68-3dab-4ac8-a3a2-8d9f29d4308f",
   "metadata": {},
   "outputs": [],
   "source": []
  }
 ],
 "metadata": {
  "kernelspec": {
   "display_name": "Python 3",
   "language": "python",
   "name": "python3"
  },
  "language_info": {
   "codemirror_mode": {
    "name": "ipython",
    "version": 3
   },
   "file_extension": ".py",
   "mimetype": "text/x-python",
   "name": "python",
   "nbconvert_exporter": "python",
   "pygments_lexer": "ipython3",
   "version": "3.9.7"
  },
  "widgets": {
   "application/vnd.jupyter.widget-state+json": {
    "state": {},
    "version_major": 2,
    "version_minor": 0
   }
  }
 },
 "nbformat": 4,
 "nbformat_minor": 5
}
