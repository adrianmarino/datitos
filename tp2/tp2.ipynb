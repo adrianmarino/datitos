{
 "cells": [
  {
   "cell_type": "markdown",
   "id": "ed6945a4-37a3-4537-981d-0bd79a3d9c57",
   "metadata": {},
   "source": [
    "[Datitos: Aprendizaje profundo](https://datitos.github.io/curso-aprendizaje-profundo/)"
   ]
  },
  {
   "cell_type": "markdown",
   "id": "dc07b230-2868-4de8-bb52-3645779ecce0",
   "metadata": {},
   "source": [
    "[T.P. N°2 - Aprendizaje Profundo 2021 by Datitos](https://www.kaggle.com/c/tp-n2-aprendizaje-profundo-2021-by-datitos-v2)"
   ]
  },
  {
   "cell_type": "code",
   "execution_count": 1,
   "id": "8f7ee00f-cf10-4c0d-9c3a-d344dc28a40c",
   "metadata": {},
   "outputs": [],
   "source": [
    "%matplotlib inline\n",
    "%load_ext autoreload\n",
    "%autoreload 2"
   ]
  },
  {
   "cell_type": "code",
   "execution_count": 2,
   "id": "af7dacb1-82b5-49f0-bc09-75e571d4ec9b",
   "metadata": {},
   "outputs": [],
   "source": [
    "import sys\n",
    "sys.path.append('../lib')"
   ]
  },
  {
   "cell_type": "code",
   "execution_count": 63,
   "id": "c4d57e44-6e75-44e7-a2a1-b25c36b971ca",
   "metadata": {},
   "outputs": [],
   "source": [
    "import warnings\n",
    "warnings.filterwarnings(\"ignore\")\n",
    "\n",
    "import numpy as np\n",
    "import pandas as pd\n",
    "\n",
    "import seaborn as sns\n",
    "\n",
    "import torch\n",
    "from torch.nn import Sequential, Softmax, LeakyReLU, PReLU\n",
    "from torch.optim import Adam\n",
    "\n",
    "from pandas_profiling import ProfileReport\n",
    "\n",
    "from sklearn.model_selection import train_test_split\n",
    "\n",
    "from callbacks import PlotMetrics, \\\n",
    "                      Logger, \\\n",
    "                      ReduceLROnPlateau, \\\n",
    "                      TrainValLossComputer, \\\n",
    "                      TrainValAccuracyComputer\n",
    "\n",
    "from model import CommonModel, \\\n",
    "                  softmax_cross_entropy_fn, \\\n",
    "                  softmax_pred_out, \\\n",
    "                  dense_stack\n",
    "\n",
    "from utils import try_gpu\n",
    "from callbacks import CallbackSet\n",
    "\n",
    "from metrics import show_summary\n",
    "\n",
    "from data import OverUnderSampler, to_single_col_df"
   ]
  },
  {
   "cell_type": "code",
   "execution_count": 4,
   "id": "69b924c1-5e9a-441e-ab72-c5a86872a7c3",
   "metadata": {},
   "outputs": [],
   "source": [
    "train_set = pd.read_csv('./dataset/fifa2021_training.csv')"
   ]
  },
  {
   "cell_type": "code",
   "execution_count": 5,
   "id": "df5d35dd-82bc-4886-9ddd-224f34475c88",
   "metadata": {},
   "outputs": [],
   "source": [
    "# ProfileReport(train_set, title=\"Exploratory Analisys\", explorative=True)to_file(\"report.html\")"
   ]
  },
  {
   "cell_type": "code",
   "execution_count": 6,
   "id": "a4abb294-025c-4b77-b8b0-5406816679cd",
   "metadata": {},
   "outputs": [],
   "source": [
    "INDIVIDUAL_FEATURES = [\n",
    "    'Overal',\n",
    "    'Potential',\n",
    "    'Height',\n",
    "    'Weight',\n",
    "    'PreferredFoot',\n",
    "    'Age',\n",
    "    'PlayerWorkRate',\n",
    "    'WeakFoot',\n",
    "    'SkillMoves', \n",
    "    'Value',\n",
    "    'Wage',\n",
    "    'Club',\n",
    "    'Club_KitNumber',\n",
    "    'Club_JoinedClub',\n",
    "    'Club_ContractLength'\n",
    "]\n",
    "\n",
    "SKILL_FEATURES = [\n",
    "    'BallControl', 'Dribbling', 'Marking', 'SlideTackle', 'StandTackle', 'Aggression',\n",
    "    'Reactions', 'Interceptions', 'Vision', 'Composure', 'Crossing', 'ShortPass',\n",
    "    'LongPass', 'Acceleration', 'Stamina', 'Strength', 'Balance', 'SprintSpeed',\n",
    "    'Agility', 'Jumping', 'Heading', 'ShotPower', 'Finishing', 'LongShots',\n",
    "    'Curve', 'FKAcc', 'Penalties', 'Volleys', 'GKDiving', 'GKHandling',\n",
    "    'GKKicking', 'GKReflexes'\n",
    "]\n",
    "TARGET = 'Position'\n",
    "\n",
    "CAL_COLS = [ 'PreferredFoot', 'PlayerWorkRate']"
   ]
  },
  {
   "cell_type": "code",
   "execution_count": 7,
   "id": "91850dec-41e3-4327-802c-edf7bbb2fc4e",
   "metadata": {},
   "outputs": [],
   "source": [
    "def columns_with_missing(df): return [col for col in df.columns if df[col].isnull().any()]"
   ]
  },
  {
   "cell_type": "code",
   "execution_count": 8,
   "id": "8685405a-d644-4478-adf8-6e8fe6f09288",
   "metadata": {},
   "outputs": [],
   "source": [
    "feature_columns = list(set(INDIVIDUAL_FEATURES + SKILL_FEATURES) -  set(columns_with_missing(train_set)))"
   ]
  },
  {
   "cell_type": "code",
   "execution_count": 9,
   "id": "a48c1cb5-5a5c-4e1b-8696-ffe7561e3724",
   "metadata": {},
   "outputs": [],
   "source": [
    "train_set = train_set[feature_columns + [TARGET]]"
   ]
  },
  {
   "cell_type": "code",
   "execution_count": 10,
   "id": "4289cbe0-61ac-49f8-a970-111ed5452be4",
   "metadata": {},
   "outputs": [],
   "source": [
    "def preprocess(df): \n",
    "    features = df[feature_columns]\n",
    "    for col in CAL_COLS:\n",
    "        features = pd.concat([features, pd.get_dummies(features[col], dummy_na=False)], axis=1)\n",
    "    features = features.drop(CAL_COLS, axis=1)\n",
    "    \n",
    "    target = pd.get_dummies(df[[TARGET]], dummy_na=False)\n",
    "    \n",
    "    return features, target"
   ]
  },
  {
   "cell_type": "code",
   "execution_count": 11,
   "id": "f313f35f-c859-4089-b6b0-f3b0e9c843db",
   "metadata": {},
   "outputs": [],
   "source": [
    "def plot_df_clases_count(df, class_col):\n",
    "    groups = train_set[[class_col]] \\\n",
    "      .groupby(class_col) \\\n",
    "      .size() \\\n",
    "      .reset_index(name='count')\n",
    "    sns.barplot(data=groups, x=class_col, y='count')\n",
    "\n",
    "def plot_array_clases_count(values):\n",
    "    groups = values \\\n",
    "        .mean() \\\n",
    "        .reset_index(name='count') \\\n",
    "        .rename(columns={\"index\": \"Name\"})\n",
    "\n",
    "    sns.barplot(data=groups, x=\"Name\", y='count')"
   ]
  },
  {
   "cell_type": "code",
   "execution_count": 12,
   "id": "893281b5-f0bd-4390-b890-93bdea5cd4e9",
   "metadata": {},
   "outputs": [
    {
     "data": {
      "image/png": "[encoded data removed]",
      "text/plain": [
       "<Figure size 432x288 with 1 Axes>"
      ]
     },
     "metadata": {
      "needs_background": "light"
     },
     "output_type": "display_data"
    }
   ],
   "source": [
    "plot_df_clases_count(train_set, TARGET)"
   ]
  },
  {
   "cell_type": "code",
   "execution_count": 13,
   "id": "f3ae573e-b150-454f-bdb7-86b9f7b0bb34",
   "metadata": {},
   "outputs": [],
   "source": [
    "X, y = preprocess(train_set)"
   ]
  },
  {
   "cell_type": "code",
   "execution_count": 14,
   "id": "7e33620a-ce78-44de-bde9-1a0dc649ebbd",
   "metadata": {},
   "outputs": [],
   "source": [
    "X_train, X_val, y_train, y_val = train_test_split(X, y, test_size=0.1, stratify=train_set[TARGET])"
   ]
  },
  {
   "cell_type": "code",
   "execution_count": 15,
   "id": "eb6729b7-63a7-4371-b545-2b47d9c7f5ce",
   "metadata": {},
   "outputs": [
    {
     "data": {
      "image/png": "[encoded data removed]",
      "text/plain": [
       "<Figure size 432x288 with 1 Axes>"
      ]
     },
     "metadata": {
      "needs_background": "light"
     },
     "output_type": "display_data"
    }
   ],
   "source": [
    "plot_array_clases_count(y_train)"
   ]
  },
  {
   "cell_type": "code",
   "execution_count": 16,
   "id": "5945d079-888f-43c1-a1a3-eac47e1d4581",
   "metadata": {},
   "outputs": [
    {
     "data": {
      "image/png": "[encoded data removed]",
      "text/plain": [
       "<Figure size 432x288 with 1 Axes>"
      ]
     },
     "metadata": {
      "needs_background": "light"
     },
     "output_type": "display_data"
    }
   ],
   "source": [
    "plot_array_clases_count(y_val)"
   ]
  },
  {
   "cell_type": "code",
   "execution_count": 17,
   "id": "5407bc4a-c5db-44f3-9f09-b47a66f04c55",
   "metadata": {},
   "outputs": [],
   "source": [
    "sampler = OverUnderSampler()\n",
    "\n",
    "X_train_bal, y_train_bal = sampler.perform(X_train, y_train)"
   ]
  },
  {
   "cell_type": "code",
   "execution_count": 18,
   "id": "7a98f63f-908c-4b43-874b-355b9c76b007",
   "metadata": {},
   "outputs": [
    {
     "data": {
      "image/png": "[encoded data removed]",
      "text/plain": [
       "<Figure size 432x288 with 1 Axes>"
      ]
     },
     "metadata": {
      "needs_background": "light"
     },
     "output_type": "display_data"
    }
   ],
   "source": [
    "plot_array_clases_count(y_train_bal)"
   ]
  },
  {
   "cell_type": "code",
   "execution_count": 104,
   "id": "26f46327-d4b7-4fdb-8934-16fb4900c05d",
   "metadata": {},
   "outputs": [],
   "source": [
    "class MyModel(CommonModel):\n",
    "    def __init__(self, n_units, lr=0.001, dropout=0.2):\n",
    "        model = Sequential(*dense_stack(n_units, LeakyReLU(negative_slope=0.02), dropout), Softmax(dim=1)).to(device=try_gpu())\n",
    "        super().__init__(model, softmax_cross_entropy_fn, Adam(model.parameters(), lr=lr), softmax_pred_out)"
   ]
  },
  {
   "cell_type": "code",
   "execution_count": 105,
   "id": "2529d49f-c4df-482f-bd3c-8f5d36901bf5",
   "metadata": {},
   "outputs": [
    {
     "name": "stdout",
     "output_type": "stream",
     "text": [
      "Model:\n",
      " Sequential(\n",
      "  (0): Linear(in_features=50, out_features=50, bias=True)\n",
      "  (1): LeakyReLU(negative_slope=0.02)\n",
      "  (2): Dropout(p=0.2, inplace=False)\n",
      "  (3): Linear(in_features=50, out_features=4, bias=True)\n",
      "  (4): LeakyReLU(negative_slope=0.02)\n",
      "  (5): Dropout(p=0.2, inplace=False)\n",
      "  (6): Softmax(dim=1)\n",
      ")\n",
      "Params:\n",
      " [('0.weight', torch.Size([50, 50])), ('0.bias', torch.Size([50])), ('3.weight', torch.Size([4, 50])), ('3.bias', torch.Size([4]))]\n"
     ]
    }
   ],
   "source": [
    "model = MyModel(\n",
    "    n_units = [X_train.shape[1], 50, y_train.shape[1]],\n",
    "    lr      = 0.01,\n",
    "    dropout = 0.2\n",
    ").info()"
   ]
  },
  {
   "cell_type": "markdown",
   "id": "be149f99-ca6a-4ae8-8da3-9500cbb17ef6",
   "metadata": {
    "tags": []
   },
   "source": [
    "### Train"
   ]
  },
  {
   "cell_type": "code",
   "execution_count": null,
   "id": "8932e639-08a9-4c3d-b346-8d84276e930f",
   "metadata": {},
   "outputs": [
    {
     "data": {
      "image/png": "[encoded data removed]",
      "text/plain": [
       "<Figure size 432x288 with 1 Axes>"
      ]
     },
     "metadata": {},
     "output_type": "display_data"
    },
    {
     "name": "stdout",
     "output_type": "stream",
     "text": [
      "{'epoch': 50, 'lr': 0.01, 'train_loss': 0.8917028903961182, 'val_loss': 0.9145106673240662, 'train_acc': 0.8511174408413672, 'val_acc': 0.8556469637493394}\n"
     ]
    }
   ],
   "source": [
    "model.fit(\n",
    "    train_set    = (X_train_bal, y_train_bal), \n",
    "    val_set      = (X_val, y_val),\n",
    "    batch_size   = 512,\n",
    "    epochs       = 500,\n",
    "    callback_set = CallbackSet([\n",
    "        TrainValLossComputer(),\n",
    "        TrainValAccuracyComputer(),\n",
    "        PlotMetrics(metrics=['train_loss', 'val_loss']),\n",
    "        Logger(metrics=['epoch', 'train_loss', 'val_loss', 'train_acc', 'val_acc', 'lr']),\n",
    "        ReduceLROnPlateau(patience=80)\n",
    "    ])\n",
    ")"
   ]
  },
  {
   "cell_type": "markdown",
   "id": "f485b1f4-90da-4644-abac-d0a873c9a9ae",
   "metadata": {},
   "source": [
    "### Predict"
   ]
  },
  {
   "cell_type": "code",
   "execution_count": null,
   "id": "e210f9d0-55de-459c-b26d-3a3c1ba95100",
   "metadata": {},
   "outputs": [],
   "source": [
    "y_true       = to_single_col_df(np.argmax(y_val.values, axis=1))\n",
    "y_pred       = to_single_col_df(model.predict(X_val))\n",
    "y_pred_proba = model.predict_proba(X_val)"
   ]
  },
  {
   "cell_type": "code",
   "execution_count": null,
   "id": "f78dcf2f-ee70-4929-8bc9-140da8389ecf",
   "metadata": {},
   "outputs": [],
   "source": [
    "show_summary(y_true, y_pred, y_pred_proba, labels=list(y_val.columns.values))"
   ]
  },
  {
   "cell_type": "code",
   "execution_count": null,
   "id": "3b202671-454c-46b1-95ef-f846f7c43fae",
   "metadata": {},
   "outputs": [],
   "source": []
  }
 ],
 "metadata": {
  "kernelspec": {
   "display_name": "Python 3",
   "language": "python",
   "name": "python3"
  },
  "language_info": {
   "codemirror_mode": {
    "name": "ipython",
    "version": 3
   },
   "file_extension": ".py",
   "mimetype": "text/x-python",
   "name": "python",
   "nbconvert_exporter": "python",
   "pygments_lexer": "ipython3",
   "version": "3.9.6"
  },
  "widgets": {
   "application/vnd.jupyter.widget-state+json": {
    "state": {},
    "version_major": 2,
    "version_minor": 0
   }
  }
 },
 "nbformat": 4,
 "nbformat_minor": 5
}
