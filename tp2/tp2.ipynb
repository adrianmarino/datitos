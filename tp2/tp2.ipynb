{
 "cells": [
  {
   "cell_type": "markdown",
   "id": "ed6945a4-37a3-4537-981d-0bd79a3d9c57",
   "metadata": {},
   "source": [
    "[Datitos: Aprendizaje profundo](https://datitos.github.io/curso-aprendizaje-profundo/)"
   ]
  },
  {
   "cell_type": "markdown",
   "id": "dc07b230-2868-4de8-bb52-3645779ecce0",
   "metadata": {},
   "source": [
    "[T.P. N°2 - Aprendizaje Profundo 2021 by Datitos](https://www.kaggle.com/c/tp-n2-aprendizaje-profundo-2021-by-datitos-v2)"
   ]
  },
  {
   "cell_type": "code",
   "execution_count": 1,
   "id": "8f7ee00f-cf10-4c0d-9c3a-d344dc28a40c",
   "metadata": {},
   "outputs": [],
   "source": [
    "%matplotlib inline\n",
    "%load_ext autoreload\n",
    "%autoreload 2"
   ]
  },
  {
   "cell_type": "code",
   "execution_count": 2,
   "id": "af7dacb1-82b5-49f0-bc09-75e571d4ec9b",
   "metadata": {},
   "outputs": [],
   "source": [
    "import sys\n",
    "sys.path.append('../lib')"
   ]
  },
  {
   "cell_type": "code",
   "execution_count": 3,
   "id": "c4d57e44-6e75-44e7-a2a1-b25c36b971ca",
   "metadata": {},
   "outputs": [],
   "source": [
    "import numpy as np\n",
    "import pandas as pd\n",
    "\n",
    "import torch\n",
    "from torch.nn import Sequential, Softmax\n",
    "from torch.optim import Adam\n",
    "\n",
    "from pandas_profiling import ProfileReport\n",
    "\n",
    "from sklearn.model_selection import train_test_split\n",
    "\n",
    "from callbacks import PlotLosses, \\\n",
    "                      Logger, \\\n",
    "                      ReduceLROnPlateau, \\\n",
    "                      TrainValLossComputer\n",
    "\n",
    "from model import CommonModel, \\\n",
    "                  softmax_cross_entropy_fn, \\\n",
    "                  softmax_pred_out, \\\n",
    "                  dense_stack\n",
    "\n",
    "from utils import try_gpu\n",
    "from callbacks import CallbackSet\n",
    "\n",
    "from metrics import show_summary"
   ]
  },
  {
   "cell_type": "code",
   "execution_count": 4,
   "id": "69b924c1-5e9a-441e-ab72-c5a86872a7c3",
   "metadata": {},
   "outputs": [],
   "source": [
    "train_set = pd.read_csv('./dataset/fifa2021_training.csv')"
   ]
  },
  {
   "cell_type": "code",
   "execution_count": 5,
   "id": "df5d35dd-82bc-4886-9ddd-224f34475c88",
   "metadata": {},
   "outputs": [],
   "source": [
    "# ProfileReport(train_set, title=\"Exploratory Analisys\", explorative=True)to_file(\"report.html\")"
   ]
  },
  {
   "cell_type": "code",
   "execution_count": 6,
   "id": "a4abb294-025c-4b77-b8b0-5406816679cd",
   "metadata": {},
   "outputs": [],
   "source": [
    "SKILL_FEATURES = [\n",
    "    'BallControl', 'Dribbling', 'Marking', 'SlideTackle', 'StandTackle', 'Aggression',\n",
    "    'Reactions', 'Interceptions', 'Vision', 'Composure', 'Crossing', 'ShortPass',\n",
    "    'LongPass', 'Acceleration', 'Stamina', 'Strength', 'Balance', 'SprintSpeed',\n",
    "    'Agility', 'Jumping', 'Heading', 'ShotPower', 'Finishing', 'LongShots',\n",
    "    'Curve', 'FKAcc', 'Penalties', 'Volleys', 'GKDiving', 'GKHandling',\n",
    "    'GKKicking', 'GKReflexes'\n",
    "]\n",
    "TARGET = 'Position'"
   ]
  },
  {
   "cell_type": "code",
   "execution_count": 7,
   "id": "4289cbe0-61ac-49f8-a970-111ed5452be4",
   "metadata": {},
   "outputs": [],
   "source": [
    "def preprocess(df): return df[SKILL_FEATURES], pd.get_dummies(df[[TARGET]], dummy_na=True)"
   ]
  },
  {
   "cell_type": "code",
   "execution_count": 8,
   "id": "7e33620a-ce78-44de-bde9-1a0dc649ebbd",
   "metadata": {},
   "outputs": [],
   "source": [
    "X_train, X_val, y_train, y_val = train_test_split(\n",
    "    *preprocess(train_set), \n",
    "    test_size=0.2\n",
    ")"
   ]
  },
  {
   "cell_type": "code",
   "execution_count": 9,
   "id": "26f46327-d4b7-4fdb-8934-16fb4900c05d",
   "metadata": {},
   "outputs": [],
   "source": [
    "class MyModel(CommonModel):\n",
    "    def __init__(self, n_units, lr=0.001, dropout=0.2):\n",
    "        model = Sequential(*dense_stack(n_units, dropout), Softmax(dim=1)).to(device=try_gpu())\n",
    "        super().__init__(model, softmax_cross_entropy_fn, Adam(model.parameters(), lr=lr), softmax_pred_out)"
   ]
  },
  {
   "cell_type": "code",
   "execution_count": 10,
   "id": "2529d49f-c4df-482f-bd3c-8f5d36901bf5",
   "metadata": {},
   "outputs": [
    {
     "name": "stdout",
     "output_type": "stream",
     "text": [
      "Model:\n",
      " Sequential(\n",
      "  (0): Linear(in_features=32, out_features=50, bias=True)\n",
      "  (1): ReLU()\n",
      "  (2): Dropout(p=0.1, inplace=False)\n",
      "  (3): Linear(in_features=50, out_features=25, bias=True)\n",
      "  (4): ReLU()\n",
      "  (5): Dropout(p=0.1, inplace=False)\n",
      "  (6): Linear(in_features=25, out_features=10, bias=True)\n",
      "  (7): ReLU()\n",
      "  (8): Dropout(p=0.1, inplace=False)\n",
      "  (9): Linear(in_features=10, out_features=5, bias=True)\n",
      "  (10): ReLU()\n",
      "  (11): Dropout(p=0.1, inplace=False)\n",
      "  (12): Softmax(dim=1)\n",
      ")\n",
      "Params:\n",
      " [('0.weight', torch.Size([50, 32])), ('0.bias', torch.Size([50])), ('3.weight', torch.Size([25, 50])), ('3.bias', torch.Size([25])), ('6.weight', torch.Size([10, 25])), ('6.bias', torch.Size([10])), ('9.weight', torch.Size([5, 10])), ('9.bias', torch.Size([5]))]\n"
     ]
    }
   ],
   "source": [
    "model = MyModel(\n",
    "    n_units = [X_train.shape[1], 50, 25, 10, y_train.shape[1]],\n",
    "    lr      = 0.001, \n",
    "    dropout = 0.1\n",
    ").info()"
   ]
  },
  {
   "cell_type": "markdown",
   "id": "be149f99-ca6a-4ae8-8da3-9500cbb17ef6",
   "metadata": {},
   "source": [
    "### Train"
   ]
  },
  {
   "cell_type": "code",
   "execution_count": 11,
   "id": "8932e639-08a9-4c3d-b346-8d84276e930f",
   "metadata": {},
   "outputs": [
    {
     "data": {
      "image/png": "[encoded data removed]",
      "text/plain": [
       "<Figure size 432x288 with 1 Axes>"
      ]
     },
     "metadata": {},
     "output_type": "display_data"
    },
    {
     "name": "stdout",
     "output_type": "stream",
     "text": [
      "{'epoch': 900, 'lr': 1.0000000000000002e-06, 'train_loss': 1.0602740049362183, 'val_loss': 1.0659891366958618}\n"
     ]
    }
   ],
   "source": [
    "model.fit(\n",
    "    train_set    = (X_train, y_train), \n",
    "    val_set      = (X_val, y_val),\n",
    "    batch_size   = 2000,\n",
    "    epochs       = 900,\n",
    "    callback_set = CallbackSet([\n",
    "        TrainValLossComputer(),\n",
    "        PlotLosses(),\n",
    "        Logger(metrics=['epoch', 'train_loss', 'val_loss', 'lr']),\n",
    "        ReduceLROnPlateau(patience=100)\n",
    "    ])\n",
    ")"
   ]
  },
  {
   "cell_type": "markdown",
   "id": "f485b1f4-90da-4644-abac-d0a873c9a9ae",
   "metadata": {},
   "source": [
    "### Predict"
   ]
  },
  {
   "cell_type": "code",
   "execution_count": 12,
   "id": "e210f9d0-55de-459c-b26d-3a3c1ba95100",
   "metadata": {},
   "outputs": [],
   "source": [
    "y_true = pd.DataFrame({ 'y_true': np.argmax(y_val.values, axis=1)})\n",
    "y_pred = pd.DataFrame({ 'y_pred': model.predict(X_val)})"
   ]
  },
  {
   "cell_type": "code",
   "execution_count": 13,
   "id": "f78dcf2f-ee70-4929-8bc9-140da8389ecf",
   "metadata": {},
   "outputs": [
    {
     "name": "stdout",
     "output_type": "stream",
     "text": [
      "Accuracy: 82.4776 %\n",
      "\n",
      "Classification Report:\n",
      "              precision    recall  f1-score   support\n",
      "\n",
      "Position_DEF       0.79      0.94      0.86       893\n",
      "Position_FWD       0.82      0.69      0.75       543\n",
      " Position_GK       0.99      0.89      0.94       326\n",
      "Position_MID       0.81      0.78      0.80      1023\n",
      "\n",
      "    accuracy                           0.82      2785\n",
      "   macro avg       0.85      0.82      0.83      2785\n",
      "weighted avg       0.83      0.82      0.82      2785\n",
      "\n"
     ]
    },
    {
     "data": {
      "image/png": "[encoded data removed]",
      "text/plain": [
       "<Figure size 432x288 with 2 Axes>"
      ]
     },
     "metadata": {},
     "output_type": "display_data"
    }
   ],
   "source": [
    "show_summary(y_true, y_pred, labels=list(y_val.columns.values))"
   ]
  }
 ],
 "metadata": {
  "kernelspec": {
   "display_name": "Python 3",
   "language": "python",
   "name": "python3"
  },
  "language_info": {
   "codemirror_mode": {
    "name": "ipython",
    "version": 3
   },
   "file_extension": ".py",
   "mimetype": "text/x-python",
   "name": "python",
   "nbconvert_exporter": "python",
   "pygments_lexer": "ipython3",
   "version": "3.9.6"
  },
  "widgets": {
   "application/vnd.jupyter.widget-state+json": {
    "state": {},
    "version_major": 2,
    "version_minor": 0
   }
  }
 },
 "nbformat": 4,
 "nbformat_minor": 5
}
