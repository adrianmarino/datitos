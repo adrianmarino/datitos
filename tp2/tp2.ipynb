{
 "cells": [
  {
   "cell_type": "markdown",
   "id": "ed6945a4-37a3-4537-981d-0bd79a3d9c57",
   "metadata": {},
   "source": [
    "[Datitos: Aprendizaje profundo](https://datitos.github.io/curso-aprendizaje-profundo/)"
   ]
  },
  {
   "cell_type": "markdown",
   "id": "dc07b230-2868-4de8-bb52-3645779ecce0",
   "metadata": {},
   "source": [
    "[T.P. N°2 - Aprendizaje Profundo 2021 by Datitos](https://www.kaggle.com/c/tp-n2-aprendizaje-profundo-2021-by-datitos-v2)"
   ]
  },
  {
   "cell_type": "code",
   "execution_count": 427,
   "id": "8f7ee00f-cf10-4c0d-9c3a-d344dc28a40c",
   "metadata": {},
   "outputs": [
    {
     "name": "stdout",
     "output_type": "stream",
     "text": [
      "The autoreload extension is already loaded. To reload it, use:\n",
      "  %reload_ext autoreload\n"
     ]
    }
   ],
   "source": [
    "%matplotlib inline\n",
    "%load_ext autoreload\n",
    "%autoreload 2"
   ]
  },
  {
   "cell_type": "code",
   "execution_count": 428,
   "id": "af7dacb1-82b5-49f0-bc09-75e571d4ec9b",
   "metadata": {},
   "outputs": [],
   "source": [
    "import sys\n",
    "sys.path.append('../lib')"
   ]
  },
  {
   "cell_type": "code",
   "execution_count": 429,
   "id": "c4d57e44-6e75-44e7-a2a1-b25c36b971ca",
   "metadata": {},
   "outputs": [],
   "source": [
    "import numpy as np\n",
    "import pandas as pd\n",
    "\n",
    "import torch\n",
    "from torch import nn\n",
    "from torch.optim import Adam\n",
    "\n",
    "from pandas_profiling import ProfileReport\n",
    "\n",
    "from sklearn.model_selection import train_test_split\n",
    "from IPython.display import clear_output\n",
    "\n",
    "from callbacks import PlotLosses, Logger, ReduceLROnPlateau, LossMetrics\n",
    "from model import Model"
   ]
  },
  {
   "cell_type": "code",
   "execution_count": 430,
   "id": "69b924c1-5e9a-441e-ab72-c5a86872a7c3",
   "metadata": {},
   "outputs": [],
   "source": [
    "train_set = pd.read_csv('./dataset/fifa2021_training.csv')\n",
    "test_set  = pd.read_csv('./dataset/fifa2021_test.csv')"
   ]
  },
  {
   "cell_type": "code",
   "execution_count": 431,
   "id": "df5d35dd-82bc-4886-9ddd-224f34475c88",
   "metadata": {},
   "outputs": [],
   "source": [
    "# ProfileReport(train_set, title=\"Exploratory Analisys\", explorative=True)to_file(\"report.html\")"
   ]
  },
  {
   "cell_type": "code",
   "execution_count": 432,
   "id": "a4abb294-025c-4b77-b8b0-5406816679cd",
   "metadata": {},
   "outputs": [],
   "source": [
    "SKILL_FEATURES = [\n",
    "    'BallControl',\n",
    "    'Dribbling',\n",
    "    'Marking',\n",
    "    'SlideTackle',\n",
    "    'StandTackle',\n",
    "    'Aggression',\n",
    "    'Reactions',\n",
    "    'Interceptions',\n",
    "    'Vision',\n",
    "    'Composure',\n",
    "    'Crossing', \n",
    "    'ShortPass',\n",
    "    'LongPass',\n",
    "    'Acceleration',\n",
    "    'Stamina',\n",
    "    'Strength',\n",
    "    'Balance',\n",
    "    'SprintSpeed',\n",
    "    'Agility',\n",
    "    'Jumping',\n",
    "    'Heading',\n",
    "    'ShotPower',\n",
    "    'Finishing',\n",
    "    'LongShots',\n",
    "    'Curve', \n",
    "    'FKAcc',\n",
    "    'Penalties',\n",
    "    'Volleys',\n",
    "    'GKDiving',\n",
    "    'GKHandling',\n",
    "    'GKKicking',\n",
    "    'GKReflexes'\n",
    "]\n",
    "\n",
    "TARGET = 'Position'"
   ]
  },
  {
   "cell_type": "code",
   "execution_count": 433,
   "id": "4289cbe0-61ac-49f8-a970-111ed5452be4",
   "metadata": {},
   "outputs": [],
   "source": [
    "def preprocess(df): return df[SKILL_FEATURES], pd.get_dummies(df[[TARGET]], dummy_na=True)"
   ]
  },
  {
   "cell_type": "code",
   "execution_count": 434,
   "id": "7e33620a-ce78-44de-bde9-1a0dc649ebbd",
   "metadata": {},
   "outputs": [
    {
     "data": {
      "text/plain": [
       "((9744, 32), (9744, 5), (4177, 32), (4177, 5))"
      ]
     },
     "execution_count": 434,
     "metadata": {},
     "output_type": "execute_result"
    }
   ],
   "source": [
    "X, y = preprocess(train_set)\n",
    "\n",
    "X_train, X_val, y_train, y_val = train_test_split(X, y, test_size=0.3, random_state=42)\n",
    "\n",
    "X_train.shape, y_train.shape, X_val.shape, y_val.shape"
   ]
  },
  {
   "cell_type": "code",
   "execution_count": 435,
   "id": "26f46327-d4b7-4fdb-8934-16fb4900c05d",
   "metadata": {},
   "outputs": [],
   "source": [
    "class MyModel(Model):\n",
    "    def __init__(self, n_inputs, n_hidden_units, n_outputs, lr=0.01):\n",
    "        model = nn.Sequential(\n",
    "            nn.Linear(n_inputs, n_hidden_units), \n",
    "            nn.ReLU(), \n",
    "            nn.Linear(n_hidden_units, n_outputs)\n",
    "        ).to(device=try_gpu())\n",
    "\n",
    "        super().__init__(\n",
    "            model,\n",
    "            loss = nn.MSELoss(), \n",
    "            optimizer = Adam(model.parameters(), lr=lr)\n",
    "        )"
   ]
  },
  {
   "cell_type": "code",
   "execution_count": 436,
   "id": "4993d38a-7458-4ba3-a90f-6d8475897f39",
   "metadata": {},
   "outputs": [
    {
     "name": "stdout",
     "output_type": "stream",
     "text": [
      "Model:\n",
      " Sequential(\n",
      "  (0): Linear(in_features=32, out_features=100, bias=True)\n",
      "  (1): ReLU()\n",
      "  (2): Linear(in_features=100, out_features=5, bias=True)\n",
      ")\n",
      "Params:\n",
      " [('0.weight', torch.Size([100, 32])), ('0.bias', torch.Size([100])), ('2.weight', torch.Size([5, 100])), ('2.bias', torch.Size([5]))]\n"
     ]
    }
   ],
   "source": [
    "model = MyModel(\n",
    "    n_inputs       = X_train.shape[1], \n",
    "    n_hidden_units = 100, \n",
    "    n_outputs      = y_train.shape[1],\n",
    "    lr             = 0.001\n",
    ").info()"
   ]
  },
  {
   "cell_type": "code",
   "execution_count": null,
   "id": "8932e639-08a9-4c3d-b346-8d84276e930f",
   "metadata": {},
   "outputs": [
    {
     "data": {
      "image/png": "[encoded data removed]",
      "text/plain": [
       "<Figure size 432x288 with 1 Axes>"
      ]
     },
     "metadata": {},
     "output_type": "display_data"
    },
    {
     "name": "stdout",
     "output_type": "stream",
     "text": [
      "{'epoch': 550, 'lr': 0.001, 'train_loss': 0.047969356179237366, 'val_loss': 0.0481063611805439}\n"
     ]
    }
   ],
   "source": [
    "model.fit(\n",
    "    train_set    = (X_train, y_train), \n",
    "    val_set      = (X_val, y_val),\n",
    "    batch_size   = 2000,\n",
    "    n_epochs     = 1000,\n",
    "    verbose      = 1,\n",
    "    callback_set = CallbackSet([\n",
    "        LossMetrics(),\n",
    "        PlotLosses(warmup_count=100),\n",
    "        Logger(metrics=['epoch', 'train_loss', 'val_loss', 'lr']),\n",
    "        ReduceLROnPlateau(patience=20)\n",
    "    ])\n",
    ")"
   ]
  }
 ],
 "metadata": {
  "kernelspec": {
   "display_name": "Python 3",
   "language": "python",
   "name": "python3"
  },
  "language_info": {
   "codemirror_mode": {
    "name": "ipython",
    "version": 3
   },
   "file_extension": ".py",
   "mimetype": "text/x-python",
   "name": "python",
   "nbconvert_exporter": "python",
   "pygments_lexer": "ipython3",
   "version": "3.9.6"
  },
  "widgets": {
   "application/vnd.jupyter.widget-state+json": {
    "state": {},
    "version_major": 2,
    "version_minor": 0
   }
  }
 },
 "nbformat": 4,
 "nbformat_minor": 5
}
